{
 "cells": [
  {
   "cell_type": "code",
   "execution_count": 11,
   "id": "df0d2e76",
   "metadata": {},
   "outputs": [],
   "source": [
    "import pandas as pd\n",
    "import argparse as args\n",
    "import numpy as np\n",
    "\n",
    "#%load_ext rpy2.ipython"
   ]
  },
  {
   "cell_type": "markdown",
   "id": "6e444f2f",
   "metadata": {},
   "source": [
    "\n",
    "# Alzheimer's Disease formatting:\n",
    "\n",
    "\n",
    "#### Reading data:"
   ]
  },
  {
   "cell_type": "code",
   "execution_count": 2,
   "id": "7db26153",
   "metadata": {},
   "outputs": [
    {
     "data": {
      "text/html": [
       "<div>\n",
       "<style scoped>\n",
       "    .dataframe tbody tr th:only-of-type {\n",
       "        vertical-align: middle;\n",
       "    }\n",
       "\n",
       "    .dataframe tbody tr th {\n",
       "        vertical-align: top;\n",
       "    }\n",
       "\n",
       "    .dataframe thead th {\n",
       "        text-align: right;\n",
       "    }\n",
       "</style>\n",
       "<table border=\"1\" class=\"dataframe\">\n",
       "  <thead>\n",
       "    <tr style=\"text-align: right;\">\n",
       "      <th></th>\n",
       "      <th>CHR</th>\n",
       "      <th>POS_GRCh37</th>\n",
       "      <th>Effect_allele</th>\n",
       "      <th>Non_Effect_allele</th>\n",
       "      <th>Z</th>\n",
       "      <th>P</th>\n",
       "      <th>N</th>\n",
       "      <th>Effect_allele_freq</th>\n",
       "    </tr>\n",
       "  </thead>\n",
       "  <tbody>\n",
       "    <tr>\n",
       "      <th>0</th>\n",
       "      <td>1</td>\n",
       "      <td>13668</td>\n",
       "      <td>A</td>\n",
       "      <td>G</td>\n",
       "      <td>-0.337420</td>\n",
       "      <td>0.7358</td>\n",
       "      <td>74004</td>\n",
       "      <td>0.005810</td>\n",
       "    </tr>\n",
       "    <tr>\n",
       "      <th>1</th>\n",
       "      <td>1</td>\n",
       "      <td>14506</td>\n",
       "      <td>A</td>\n",
       "      <td>G</td>\n",
       "      <td>-0.511216</td>\n",
       "      <td>0.6092</td>\n",
       "      <td>74004</td>\n",
       "      <td>0.005414</td>\n",
       "    </tr>\n",
       "    <tr>\n",
       "      <th>2</th>\n",
       "      <td>1</td>\n",
       "      <td>14773</td>\n",
       "      <td>T</td>\n",
       "      <td>C</td>\n",
       "      <td>1.371240</td>\n",
       "      <td>0.1703</td>\n",
       "      <td>74004</td>\n",
       "      <td>0.017350</td>\n",
       "    </tr>\n",
       "    <tr>\n",
       "      <th>3</th>\n",
       "      <td>1</td>\n",
       "      <td>14860</td>\n",
       "      <td>T</td>\n",
       "      <td>G</td>\n",
       "      <td>-1.275874</td>\n",
       "      <td>0.2020</td>\n",
       "      <td>74004</td>\n",
       "      <td>0.011770</td>\n",
       "    </tr>\n",
       "    <tr>\n",
       "      <th>4</th>\n",
       "      <td>1</td>\n",
       "      <td>17101</td>\n",
       "      <td>C</td>\n",
       "      <td>G</td>\n",
       "      <td>-0.471057</td>\n",
       "      <td>0.6376</td>\n",
       "      <td>74004</td>\n",
       "      <td>0.017450</td>\n",
       "    </tr>\n",
       "    <tr>\n",
       "      <th>...</th>\n",
       "      <td>...</td>\n",
       "      <td>...</td>\n",
       "      <td>...</td>\n",
       "      <td>...</td>\n",
       "      <td>...</td>\n",
       "      <td>...</td>\n",
       "      <td>...</td>\n",
       "      <td>...</td>\n",
       "    </tr>\n",
       "    <tr>\n",
       "      <th>12688334</th>\n",
       "      <td>22</td>\n",
       "      <td>51239578</td>\n",
       "      <td>C</td>\n",
       "      <td>T</td>\n",
       "      <td>-0.768483</td>\n",
       "      <td>0.4422</td>\n",
       "      <td>74004</td>\n",
       "      <td>0.005218</td>\n",
       "    </tr>\n",
       "    <tr>\n",
       "      <th>12688335</th>\n",
       "      <td>22</td>\n",
       "      <td>51239584</td>\n",
       "      <td>C</td>\n",
       "      <td>G</td>\n",
       "      <td>-0.768483</td>\n",
       "      <td>0.4422</td>\n",
       "      <td>74004</td>\n",
       "      <td>0.005218</td>\n",
       "    </tr>\n",
       "    <tr>\n",
       "      <th>12688336</th>\n",
       "      <td>22</td>\n",
       "      <td>51239586</td>\n",
       "      <td>G</td>\n",
       "      <td>T</td>\n",
       "      <td>-0.737201</td>\n",
       "      <td>0.4610</td>\n",
       "      <td>74004</td>\n",
       "      <td>0.006382</td>\n",
       "    </tr>\n",
       "    <tr>\n",
       "      <th>12688337</th>\n",
       "      <td>22</td>\n",
       "      <td>51242557</td>\n",
       "      <td>T</td>\n",
       "      <td>A</td>\n",
       "      <td>-1.158893</td>\n",
       "      <td>0.2465</td>\n",
       "      <td>74004</td>\n",
       "      <td>0.061110</td>\n",
       "    </tr>\n",
       "    <tr>\n",
       "      <th>12688338</th>\n",
       "      <td>22</td>\n",
       "      <td>51243297</td>\n",
       "      <td>A</td>\n",
       "      <td>T</td>\n",
       "      <td>0.743631</td>\n",
       "      <td>0.4571</td>\n",
       "      <td>63926</td>\n",
       "      <td>0.856800</td>\n",
       "    </tr>\n",
       "  </tbody>\n",
       "</table>\n",
       "<p>12688339 rows × 8 columns</p>\n",
       "</div>"
      ],
      "text/plain": [
       "          CHR  POS_GRCh37 Effect_allele Non_Effect_allele         Z       P  \\\n",
       "0           1       13668             A                 G -0.337420  0.7358   \n",
       "1           1       14506             A                 G -0.511216  0.6092   \n",
       "2           1       14773             T                 C  1.371240  0.1703   \n",
       "3           1       14860             T                 G -1.275874  0.2020   \n",
       "4           1       17101             C                 G -0.471057  0.6376   \n",
       "...       ...         ...           ...               ...       ...     ...   \n",
       "12688334   22    51239578             C                 T -0.768483  0.4422   \n",
       "12688335   22    51239584             C                 G -0.768483  0.4422   \n",
       "12688336   22    51239586             G                 T -0.737201  0.4610   \n",
       "12688337   22    51242557             T                 A -1.158893  0.2465   \n",
       "12688338   22    51243297             A                 T  0.743631  0.4571   \n",
       "\n",
       "              N  Effect_allele_freq  \n",
       "0         74004            0.005810  \n",
       "1         74004            0.005414  \n",
       "2         74004            0.017350  \n",
       "3         74004            0.011770  \n",
       "4         74004            0.017450  \n",
       "...         ...                 ...  \n",
       "12688334  74004            0.005218  \n",
       "12688335  74004            0.005218  \n",
       "12688336  74004            0.006382  \n",
       "12688337  74004            0.061110  \n",
       "12688338  63926            0.856800  \n",
       "\n",
       "[12688339 rows x 8 columns]"
      ]
     },
     "execution_count": 2,
     "metadata": {},
     "output_type": "execute_result"
    }
   ],
   "source": [
    "alzheimer = pd.DataFrame(pd.read_csv(\"~/alzheimersproject/1_raw_data/alzheimer_wightman_freq\", \n",
    "                delim_whitespace=True, header=0, na_values='NA'))\n",
    "\n",
    "alzheimer"
   ]
  },
  {
   "cell_type": "markdown",
   "id": "6f923c80",
   "metadata": {},
   "source": [
    "From the table above, it is clear, that the dataset is only missing the `SNP`column.   \n",
    "To add this, we need a reference file (dbSNP v150 for hg19 was used), which is downoaded using the following:  \n",
    "`wget https://ftp.ncbi.nih.gov/snp/organisms/human_9606_b150_GRCh37p13/VCF/All_20170710.vcf.gz`\n",
    "\n",
    "The reference file was then unzipped and renamed hg19_ref. "
   ]
  },
  {
   "cell_type": "markdown",
   "id": "78d5cd82",
   "metadata": {},
   "source": [
    "#### Merging reference file with alzheimer in order to extract the rsIDs:"
   ]
  },
  {
   "cell_type": "code",
   "execution_count": 1,
   "id": "1e469b40",
   "metadata": {},
   "outputs": [],
   "source": [
    "%%bash\n",
    "\n",
    "# 1. Creating chr_pos column in reference and alzheimer file:\n",
    "awk -v OFS='\\t' '{print $1\"_\"$2, $0}' ~/alzheimersproject/1_raw_data/hg19_ref > hg19_ref_CHRPOS\n",
    "awk -v OFS='\\t' '{print $1\"_\"$2, $0}' ~/alzheimersproject/1_raw_data/alzheimer_wightman_freq > alzheimer_wightman_CHRPOS\n",
    "\n",
    "# 2. Creating files that only contain the chr_pos column:\n",
    "cut -f1 hg19_ref_CHRPOS > hg19_ref_CHRPOS_col1\n",
    "cut -f1 alzheimer_wightman_CHRPOS > alzheimer_wightman_CHRPOS_col1\n",
    "\n",
    "# 3. Creating files that only contain unique chr_pos variants names:\n",
    "sort alzheimer_wightman_CHRPOS_col1 | uniq -u > alzheimer_wightman_CHRPOS_col1_uniq\n",
    "sort hg19_ref_CHRPOS_col1 | uniq -u > hg19_ref_CHRPOS_col1_uniq\n",
    "\n",
    "# 4. Creating new files with the duplicate chr_pos variant names removed:\n",
    "awk 'NR==FNR {FILE1[$1]=$0; next} ($1 in FILE1) {print $0}' alzheimer_wightman_CHRPOS_col1_uniq alzheimer_wightman_CHRPOS > alzheimer_wightman_CHRPOS_uniq\n",
    "awk 'NR==FNR {FILE1[$1]=$0; next} ($1 in FILE1) {print $0}' hg19_ref_CHRPOS_col1_uniq hg19_ref_CHRPOS > hg19_ref_CHRPOS_uniq\n",
    "\n",
    "# 5. Adding rsIDs from reference to alzheimer file:\n",
    "awk -v OFS='\\t' 'NR==FNR { FILE1[$1]=$4; next} ($1 in FILE1) {print FILE1[$1], $0}' hg19_ref_CHRPOS_uniq alzheimer_wightman_CHRPOS_uniq > alzheimer_wightman_rsID"
   ]
  },
  {
   "cell_type": "markdown",
   "id": "30c495a2",
   "metadata": {},
   "source": [
    "#### Creating file with removed SNPs due to missing rsID:"
   ]
  },
  {
   "cell_type": "code",
   "execution_count": 2,
   "id": "4af2719d",
   "metadata": {},
   "outputs": [
    {
     "name": "stdout",
     "output_type": "stream",
     "text": [
      "287373 alzheimer_removed_snps\n"
     ]
    }
   ],
   "source": [
    "%%bash\n",
    "\n",
    "# Removing the rsID column to make the two files identical in regard to columns:\n",
    "awk -v OFS='\\t' '{ print $2, $3, $4, $5, $6, $7, $8, $9, $10 }' alzheimer_wightman_rsID > alzheimer_hg19\n",
    "\n",
    "# Tab seperate file:\n",
    "cat alzheimer_wightman_CHRPOS_uniq | tr ' ' '\\t' > alzheimer_wightman_CHRPOS_uniq_tab\n",
    "\n",
    "# Comparing the two file and only print the rows that are unique for alzheimer_wightman_CHRPOS_uniq:\n",
    "comm -2 -3 <(sort alzheimer_wightman_CHRPOS_uniq_tab) <(sort alzheimer_hg19) > alzheimer_removed_snps\n",
    "wc -l alzheimer_removed_snps\n",
    "\n",
    "# Making a file that only contain the SNPs that were significant (P<0.05):\n",
    "#awk '$7 < 0.05' alzheimer_removed_snps > alzheimer_sig_removed_snps\n",
    "#wc -l alzheimer_sig_removed_snps"
   ]
  },
  {
   "cell_type": "markdown",
   "id": "a993b038",
   "metadata": {},
   "source": [
    "#### Trying to find rsIDs for the significant SNPs that were removed:"
   ]
  },
  {
   "cell_type": "code",
   "execution_count": 3,
   "id": "d506a100",
   "metadata": {},
   "outputs": [
    {
     "name": "stdout",
     "output_type": "stream",
     "text": [
      "117277 alzheimer_removed_snps_rsID\n"
     ]
    }
   ],
   "source": [
    "%%bash\n",
    "\n",
    "# 1. Creating chr_pos column in reference file (here Jansen data):\n",
    "awk -v OFS='\\t' '{print $2\"_\"$3, $0}' ~/alzheimersproject/1_raw_data/alzheimer_jansen > alzheimer_jansen_CHRPOS\n",
    "\n",
    "# 2. Creating files that only contain the chr_pos column:\n",
    "cut -f1 alzheimer_jansen_CHRPOS > alzheimer_jansen_CHRPOS_col1\n",
    "cut -f1 alzheimer_removed_snps > alzheimer_removed_snps_col1\n",
    "\n",
    "# 3. Creating files that only contain unique chr_pos variants names:\n",
    "sort alzheimer_removed_snps_col1 | uniq -u > alzheimer_removed_snps_col1_uniq\n",
    "sort alzheimer_jansen_CHRPOS_col1 | uniq -u > alzheimer_jansen_CHRPOS_col1_uniq\n",
    "\n",
    "# 4. Creating new files with the duplicate chr_pos variant names removed:\n",
    "awk 'NR==FNR {FILE1[$1]=$0; next} ($1 in FILE1) {print $0}' alzheimer_removed_snps_col1_uniq alzheimer_removed_snps > alzheimer_removed_snps_uniq\n",
    "awk 'NR==FNR {FILE1[$1]=$0; next} ($1 in FILE1) {print $0}' alzheimer_jansen_CHRPOS_col1_uniq alzheimer_jansen_CHRPOS > alzheimer_jansen_CHRPOS_uniq\n",
    "\n",
    "# 5. Adding rsIDs from reference to removed SNPs file:\n",
    "awk -v OFS='\\t' 'NR==FNR { FILE1[$1]=$7; next} ($1 in FILE1) {print FILE1[$1], $0}' alzheimer_jansen_CHRPOS_uniq alzheimer_removed_snps_uniq > alzheimer_removed_snps_rsID\n",
    "wc -l alzheimer_removed_snps_rsID"
   ]
  },
  {
   "cell_type": "markdown",
   "id": "295b2e89",
   "metadata": {},
   "source": [
    "#### Adding the SNPs that were removed, but that are now containing an rsID:"
   ]
  },
  {
   "cell_type": "code",
   "execution_count": 4,
   "id": "e73e4193",
   "metadata": {},
   "outputs": [],
   "source": [
    "%%bash \n",
    "\n",
    "cat alzheimer_wightman_rsID alzheimer_removed_snps_rsID > alzheimer_hg19_jansen_rsid"
   ]
  },
  {
   "cell_type": "markdown",
   "id": "650680ab",
   "metadata": {},
   "source": [
    "#### Adding beta and se:"
   ]
  },
  {
   "cell_type": "code",
   "execution_count": 40,
   "id": "13a65768",
   "metadata": {},
   "outputs": [],
   "source": [
    "%%bash\n",
    "\n",
    "awk -v OFS='\\t' 'BEGIN { print \"SNP\", \"CHR\", \"BP\", \"A1\", \"A2\", \"Z\", \"P\", \"N\", \"FREQ\", \"BETA\", \"SE\"} { print $1, $3, $4, $5, $6, $7, $8, $9, $10, $11 = ($7/sqrt($9/(2*$10(1-$10)))), $12 = (sqrt(1/($9/(2*$10(1-$10))))) }' alzheimer_hg19_jansen_rsid > alzheimer_all_cols"
   ]
  },
  {
   "cell_type": "markdown",
   "id": "551af6ad",
   "metadata": {},
   "source": [
    "#### Removing potential non-rsIDs in the SNP column:"
   ]
  },
  {
   "cell_type": "code",
   "execution_count": 41,
   "id": "67a4dfef",
   "metadata": {},
   "outputs": [],
   "source": [
    "%%bash\n",
    "\n",
    "awk -v OFS='\\t' 'NR == 1 || $1 ~ \"rs\"' alzheimer_all_cols > alzheimer_all_cols_onlyrs"
   ]
  },
  {
   "cell_type": "markdown",
   "id": "d2c24785",
   "metadata": {},
   "source": [
    "#### Removing possible duplicates i the file:"
   ]
  },
  {
   "cell_type": "code",
   "execution_count": 42,
   "id": "de28b7a6",
   "metadata": {},
   "outputs": [],
   "source": [
    "%%bash\n",
    "\n",
    "awk '!seen[$1]++' alzheimer_all_cols_onlyrs > alzheimer_onlyrs_uniq"
   ]
  },
  {
   "cell_type": "markdown",
   "id": "264c58fe",
   "metadata": {},
   "source": [
    "#### Checking if it worked:"
   ]
  },
  {
   "cell_type": "code",
   "execution_count": 43,
   "id": "b481dcf4",
   "metadata": {},
   "outputs": [
    {
     "data": {
      "text/html": [
       "<div>\n",
       "<style scoped>\n",
       "    .dataframe tbody tr th:only-of-type {\n",
       "        vertical-align: middle;\n",
       "    }\n",
       "\n",
       "    .dataframe tbody tr th {\n",
       "        vertical-align: top;\n",
       "    }\n",
       "\n",
       "    .dataframe thead th {\n",
       "        text-align: right;\n",
       "    }\n",
       "</style>\n",
       "<table border=\"1\" class=\"dataframe\">\n",
       "  <thead>\n",
       "    <tr style=\"text-align: right;\">\n",
       "      <th></th>\n",
       "      <th>SNP</th>\n",
       "      <th>CHR</th>\n",
       "      <th>BP</th>\n",
       "      <th>A1</th>\n",
       "      <th>A2</th>\n",
       "      <th>Z</th>\n",
       "      <th>P</th>\n",
       "      <th>N</th>\n",
       "      <th>FREQ</th>\n",
       "      <th>BETA</th>\n",
       "      <th>SE</th>\n",
       "    </tr>\n",
       "  </thead>\n",
       "  <tbody>\n",
       "    <tr>\n",
       "      <th>0</th>\n",
       "      <td>rs2691328</td>\n",
       "      <td>1</td>\n",
       "      <td>13668</td>\n",
       "      <td>A</td>\n",
       "      <td>G</td>\n",
       "      <td>-0.337420</td>\n",
       "      <td>0.735800</td>\n",
       "      <td>74004</td>\n",
       "      <td>0.005810</td>\n",
       "      <td>-0.000134</td>\n",
       "      <td>0.000396</td>\n",
       "    </tr>\n",
       "    <tr>\n",
       "      <th>1</th>\n",
       "      <td>rs878915777</td>\n",
       "      <td>1</td>\n",
       "      <td>14773</td>\n",
       "      <td>T</td>\n",
       "      <td>C</td>\n",
       "      <td>1.371240</td>\n",
       "      <td>0.170300</td>\n",
       "      <td>74004</td>\n",
       "      <td>0.017350</td>\n",
       "      <td>0.000939</td>\n",
       "      <td>0.000685</td>\n",
       "    </tr>\n",
       "    <tr>\n",
       "      <th>2</th>\n",
       "      <td>rs533499096</td>\n",
       "      <td>1</td>\n",
       "      <td>14860</td>\n",
       "      <td>T</td>\n",
       "      <td>G</td>\n",
       "      <td>-1.275874</td>\n",
       "      <td>0.202000</td>\n",
       "      <td>74004</td>\n",
       "      <td>0.011770</td>\n",
       "      <td>-0.000720</td>\n",
       "      <td>0.000564</td>\n",
       "    </tr>\n",
       "    <tr>\n",
       "      <th>3</th>\n",
       "      <td>rs867691030</td>\n",
       "      <td>1</td>\n",
       "      <td>17147</td>\n",
       "      <td>A</td>\n",
       "      <td>G</td>\n",
       "      <td>0.085329</td>\n",
       "      <td>0.932000</td>\n",
       "      <td>74004</td>\n",
       "      <td>0.016020</td>\n",
       "      <td>0.000056</td>\n",
       "      <td>0.000658</td>\n",
       "    </tr>\n",
       "    <tr>\n",
       "      <th>4</th>\n",
       "      <td>rs373918278</td>\n",
       "      <td>1</td>\n",
       "      <td>17765</td>\n",
       "      <td>A</td>\n",
       "      <td>G</td>\n",
       "      <td>0.093886</td>\n",
       "      <td>0.925200</td>\n",
       "      <td>74004</td>\n",
       "      <td>0.006307</td>\n",
       "      <td>0.000039</td>\n",
       "      <td>0.000413</td>\n",
       "    </tr>\n",
       "    <tr>\n",
       "      <th>...</th>\n",
       "      <td>...</td>\n",
       "      <td>...</td>\n",
       "      <td>...</td>\n",
       "      <td>...</td>\n",
       "      <td>...</td>\n",
       "      <td>...</td>\n",
       "      <td>...</td>\n",
       "      <td>...</td>\n",
       "      <td>...</td>\n",
       "      <td>...</td>\n",
       "      <td>...</td>\n",
       "    </tr>\n",
       "    <tr>\n",
       "      <th>12451130</th>\n",
       "      <td>rs10817096</td>\n",
       "      <td>9</td>\n",
       "      <td>99865774</td>\n",
       "      <td>C</td>\n",
       "      <td>A</td>\n",
       "      <td>1.007255</td>\n",
       "      <td>0.313812</td>\n",
       "      <td>8313</td>\n",
       "      <td>0.141105</td>\n",
       "      <td>0.005869</td>\n",
       "      <td>0.005826</td>\n",
       "    </tr>\n",
       "    <tr>\n",
       "      <th>12451131</th>\n",
       "      <td>rs10817129</td>\n",
       "      <td>9</td>\n",
       "      <td>99880920</td>\n",
       "      <td>C</td>\n",
       "      <td>G</td>\n",
       "      <td>0.806652</td>\n",
       "      <td>0.419867</td>\n",
       "      <td>262579</td>\n",
       "      <td>0.166765</td>\n",
       "      <td>0.000909</td>\n",
       "      <td>0.001127</td>\n",
       "    </tr>\n",
       "    <tr>\n",
       "      <th>12451132</th>\n",
       "      <td>rs139328556</td>\n",
       "      <td>9</td>\n",
       "      <td>99906691</td>\n",
       "      <td>G</td>\n",
       "      <td>A</td>\n",
       "      <td>-0.533539</td>\n",
       "      <td>0.593661</td>\n",
       "      <td>760064</td>\n",
       "      <td>0.025099</td>\n",
       "      <td>-0.000137</td>\n",
       "      <td>0.000257</td>\n",
       "    </tr>\n",
       "    <tr>\n",
       "      <th>12451133</th>\n",
       "      <td>rs371129421</td>\n",
       "      <td>9</td>\n",
       "      <td>99934073</td>\n",
       "      <td>A</td>\n",
       "      <td>T</td>\n",
       "      <td>0.491369</td>\n",
       "      <td>0.623166</td>\n",
       "      <td>8313</td>\n",
       "      <td>0.025944</td>\n",
       "      <td>0.001228</td>\n",
       "      <td>0.002498</td>\n",
       "    </tr>\n",
       "    <tr>\n",
       "      <th>12451134</th>\n",
       "      <td>rs57991748</td>\n",
       "      <td>9</td>\n",
       "      <td>9998129</td>\n",
       "      <td>A</td>\n",
       "      <td>T</td>\n",
       "      <td>-0.393974</td>\n",
       "      <td>0.693600</td>\n",
       "      <td>63926</td>\n",
       "      <td>0.569400</td>\n",
       "      <td>-0.001663</td>\n",
       "      <td>0.004221</td>\n",
       "    </tr>\n",
       "  </tbody>\n",
       "</table>\n",
       "<p>12451135 rows × 11 columns</p>\n",
       "</div>"
      ],
      "text/plain": [
       "                  SNP  CHR        BP A1 A2         Z         P       N  \\\n",
       "0           rs2691328    1     13668  A  G -0.337420  0.735800   74004   \n",
       "1         rs878915777    1     14773  T  C  1.371240  0.170300   74004   \n",
       "2         rs533499096    1     14860  T  G -1.275874  0.202000   74004   \n",
       "3         rs867691030    1     17147  A  G  0.085329  0.932000   74004   \n",
       "4         rs373918278    1     17765  A  G  0.093886  0.925200   74004   \n",
       "...               ...  ...       ... .. ..       ...       ...     ...   \n",
       "12451130   rs10817096    9  99865774  C  A  1.007255  0.313812    8313   \n",
       "12451131   rs10817129    9  99880920  C  G  0.806652  0.419867  262579   \n",
       "12451132  rs139328556    9  99906691  G  A -0.533539  0.593661  760064   \n",
       "12451133  rs371129421    9  99934073  A  T  0.491369  0.623166    8313   \n",
       "12451134   rs57991748    9   9998129  A  T -0.393974  0.693600   63926   \n",
       "\n",
       "              FREQ      BETA        SE  \n",
       "0         0.005810 -0.000134  0.000396  \n",
       "1         0.017350  0.000939  0.000685  \n",
       "2         0.011770 -0.000720  0.000564  \n",
       "3         0.016020  0.000056  0.000658  \n",
       "4         0.006307  0.000039  0.000413  \n",
       "...            ...       ...       ...  \n",
       "12451130  0.141105  0.005869  0.005826  \n",
       "12451131  0.166765  0.000909  0.001127  \n",
       "12451132  0.025099 -0.000137  0.000257  \n",
       "12451133  0.025944  0.001228  0.002498  \n",
       "12451134  0.569400 -0.001663  0.004221  \n",
       "\n",
       "[12451135 rows x 11 columns]"
      ]
     },
     "execution_count": 43,
     "metadata": {},
     "output_type": "execute_result"
    }
   ],
   "source": [
    "alzheimer_formatted = pd.DataFrame(pd.read_csv(\"~/alzheimersproject/2_formatting/alzheimer_onlyrs_uniq\", \n",
    "                delim_whitespace=True, na_values='NA'))\n",
    "\n",
    "alzheimer_formatted"
   ]
  },
  {
   "cell_type": "markdown",
   "id": "fa7be3f0",
   "metadata": {},
   "source": [
    "#### Checking for NaN, NA, and inf.:"
   ]
  },
  {
   "cell_type": "code",
   "execution_count": 45,
   "id": "1bef8c1a",
   "metadata": {
    "scrolled": true
   },
   "outputs": [
    {
     "name": "stdout",
     "output_type": "stream",
     "text": [
      "SNP     0\n",
      "CHR     0\n",
      "BP      0\n",
      "A1      0\n",
      "A2      0\n",
      "Z       0\n",
      "P       0\n",
      "N       0\n",
      "FREQ    0\n",
      "BETA    0\n",
      "SE      0\n",
      "dtype: int64\n",
      "\n",
      "------------------------------\n",
      "\n",
      "SNP     0\n",
      "CHR     0\n",
      "BP      0\n",
      "A1      0\n",
      "A2      0\n",
      "Z       0\n",
      "P       0\n",
      "N       0\n",
      "FREQ    0\n",
      "BETA    0\n",
      "SE      0\n",
      "dtype: int64\n",
      "\n",
      "------------------------------\n",
      "\n",
      "SNP      0\n",
      "CHR      0\n",
      "BP       0\n",
      "A1       0\n",
      "A2       0\n",
      "Z       31\n",
      "P        0\n",
      "N        0\n",
      "FREQ     0\n",
      "BETA     2\n",
      "SE       0\n",
      "dtype: int64\n"
     ]
    }
   ],
   "source": [
    "# 1. Checking for NaN:\n",
    "print(alzheimer_formatted.isnull().sum())\n",
    "\n",
    "print('\\n------------------------------\\n')\n",
    "\n",
    "# 2. Checking for NA:\n",
    "print(alzheimer_formatted.isna().sum())\n",
    "\n",
    "print('\\n------------------------------\\n') \n",
    "\n",
    "# 3. Checking for inf:\n",
    "print((alzheimer_formatted.isin([np.inf, -np.inf])).sum())\n"
   ]
  },
  {
   "cell_type": "markdown",
   "id": "7b7c61fb",
   "metadata": {},
   "source": [
    "#### Checking for inf/-inf values and P=0:"
   ]
  },
  {
   "cell_type": "code",
   "execution_count": 16,
   "id": "ed990e7a",
   "metadata": {
    "scrolled": true
   },
   "outputs": [
    {
     "name": "stdout",
     "output_type": "stream",
     "text": [
      "SNP\tCHR\tBP\tA1\tA2\tZ\tP\tN\tFREQ\tBETA\tSE\n",
      "rs147711004\t19\t45337918\tA\tG\t39.3407977311966\t0\t533233\t0.038277824715868\t0.0149064\t0.000378905\n",
      "rs41289512\t19\t45351516\tG\tC\t40.8764662452882\t0\t537683\t0.0473418599363339\t0.0171533\t0.000419638\n",
      "rs12972156\t19\t45387459\tG\tC\tInf\t0\t758138\t0.160681797192298\t0\t0.000651065\n",
      "rs12972970\t19\t45387596\tA\tG\tInf\t0\t758349\t0.160831579541649\t0\t0.000651277\n",
      "rs34342646\t19\t45388130\tA\tG\tInf\t0\t758277\t0.164593868083831\t0\t0.000658883\n",
      "rs283815\t19\t45390333\tG\tA\tInf\t0\t696691\t0.21932447605506\t0\t0.000793485\n",
      "rs6857\t19\t45392254\tT\tC\tInf\t0\t698326\t0.18145525060524\t0\t0.000720893\n",
      "rs71352238\t19\t45394336\tC\tT\tInf\t0\t762491\t0.163301618021702\t0\t0.000654474\n",
      "rs184017\t19\t45394969\tG\tT\tInf\t0\t698668\t0.219899129622319\t0\t0.000793398\n",
      "\n",
      "------------------------------------------------\n",
      "\n",
      "SNP\tCHR\tBP\tA1\tA2\tZ\tP\tN\tFREQ\tBETA\tSE\n",
      "rs12972156\t19\t45387459\tG\tC\tInf\t0\t758138\t0.160681797192298\t0\t0.000651065\n",
      "rs12972970\t19\t45387596\tA\tG\tInf\t0\t758349\t0.160831579541649\t0\t0.000651277\n",
      "rs34342646\t19\t45388130\tA\tG\tInf\t0\t758277\t0.164593868083831\t0\t0.000658883\n",
      "rs283815\t19\t45390333\tG\tA\tInf\t0\t696691\t0.21932447605506\t0\t0.000793485\n",
      "rs6857\t19\t45392254\tT\tC\tInf\t0\t698326\t0.18145525060524\t0\t0.000720893\n",
      "rs71352238\t19\t45394336\tC\tT\tInf\t0\t762491\t0.163301618021702\t0\t0.000654474\n",
      "rs184017\t19\t45394969\tG\tT\tInf\t0\t698668\t0.219899129622319\t0\t0.000793398\n",
      "rs2075650\t19\t45395619\tG\tA\tInf\t0\t762917\t0.159960106011225\t0\t0.000647563\n",
      "rs157581\t19\t45395714\tC\tT\tInf\t0\t698991\t0.220263474816614\t0\t0.000793872\n",
      "\n",
      "------------------------------------------------\n",
      "\n",
      "SNP\tCHR\tBP\tA1\tA2\tZ\tP\tN\tFREQ\tBETA\tSE\n"
     ]
    }
   ],
   "source": [
    "%%bash\n",
    "\n",
    "awk -v OFS='\\t' 'NR == 1 || $7 == \"0.0\" || $7 == \"0\" ' alzheimer_onlyrs_uniq | head\n",
    "\n",
    "echo -e '\\n------------------------------------------------\\n' \n",
    "\n",
    "awk -v OFS='\\t' 'NR == 1 || $6 == \"Inf\" || $6 == \"-Inf\"' alzheimer_onlyrs_uniq | head\n",
    "\n",
    "echo -e '\\n------------------------------------------------\\n' \n",
    "\n",
    "awk -v OFS='\\t' 'NR == 1 || $10 == \"Inf\" || $10 == \"-Inf\"' alzheimer_onlyrs_uniq | head"
   ]
  },
  {
   "cell_type": "markdown",
   "id": "310bc74c",
   "metadata": {},
   "source": [
    "#### Setting P=0 to P=1e-269:"
   ]
  },
  {
   "cell_type": "code",
   "execution_count": 47,
   "id": "b7779665",
   "metadata": {
    "scrolled": true
   },
   "outputs": [],
   "source": [
    "%%bash\n",
    "\n",
    "awk -v OFS='\\t' '$7 == \"0\"{$7=1e-269} 1' alzheimer_onlyrs_uniq > alzheimer_onlyrs_uniq_p"
   ]
  },
  {
   "cell_type": "markdown",
   "id": "88865ea3",
   "metadata": {},
   "source": [
    "#### Making file containing the SNPs with infinity z and one that does not contain those SNPs:"
   ]
  },
  {
   "cell_type": "code",
   "execution_count": 48,
   "id": "36221394",
   "metadata": {
    "scrolled": true
   },
   "outputs": [],
   "source": [
    "%%bash\n",
    "\n",
    "awk -v OFS='\\t' 'NR == 1 || $6 == \"Inf\" || $6 == \"-Inf\"' alzheimer_onlyrs_uniq_p > alzheimer_inf\n",
    "awk -v OFS='\\t' '$6 != \"Inf\" && $6 != \"-Inf\"' alzheimer_onlyrs_uniq_p > alzheimer_formatted_noInf \n"
   ]
  },
  {
   "cell_type": "markdown",
   "id": "86f3d786",
   "metadata": {},
   "source": [
    "#### Extract true Z-scores from other file:"
   ]
  },
  {
   "cell_type": "code",
   "execution_count": 34,
   "id": "c666f44e",
   "metadata": {},
   "outputs": [],
   "source": [
    "%%bash\n",
    "\n",
    "awk 'FNR==NR { FILE1[$6]=$7; next} ($1 in FILE1) {print FILE1[$1], $0}' ~/alzheimersproject/1_raw_data/alzheimer_jansen alzheimer_inf > alzheimer_inf_jansen\n",
    "awk 'FNR==NR { FILE1[$6]=$13; next} ($2 in FILE1) {print FILE1[$2], $0}' ~/alzheimersproject/1_raw_data/alzheimer_jansen alzheimer_inf_jansen > alzheimer_inf_beta_jansen\n",
    "awk -v OFS='\\t' 'NR!=1 { print $3, $4, $5, $6, $7, $2, $9, $10, $11, $1, $13 }' alzheimer_inf_beta_jansen > alzheimer_true_z_beta\n"
   ]
  },
  {
   "cell_type": "markdown",
   "id": "05f08b0c",
   "metadata": {},
   "source": [
    "#### Merging the two files in order to insert the true Z-scores:"
   ]
  },
  {
   "cell_type": "code",
   "execution_count": 1,
   "id": "6254a8f4",
   "metadata": {
    "scrolled": false
   },
   "outputs": [
    {
     "name": "stdout",
     "output_type": "stream",
     "text": [
      "  12451136 alzheimer_onlyrs_uniq_p\n",
      "  12451135 alzheimer_formatted\n",
      "  24902271 total\n"
     ]
    }
   ],
   "source": [
    "%%bash\n",
    "\n",
    "cat alzheimer_formatted_noInf alzheimer_true_z_beta > alzheimer_formatted\n",
    "wc -l alzheimer_onlyrs_uniq_p alzheimer_formatted"
   ]
  },
  {
   "cell_type": "markdown",
   "id": "e650c470",
   "metadata": {},
   "source": [
    "#### Rearranging columns for ldsc:"
   ]
  },
  {
   "cell_type": "code",
   "execution_count": 40,
   "id": "8dca9756",
   "metadata": {},
   "outputs": [],
   "source": [
    "%%bash\n",
    "awk -v OFS='\\t' 'BEGIN { print \"SNP\", \"CHR\", \"BP\", \"A1\", \"A2\", \"FREQ\", \"P\", \"N\", \"Z\" } NR!=1 { print $1, $2, $3, $4, $5, $9, $7, $8, $6 }' alzheimer_onlyrs_uniq_p_z_beta > ~/alzheimersproject/ldsc_formatted/alzheimer_ldsc_form"
   ]
  },
  {
   "cell_type": "markdown",
   "id": "c0333c1b",
   "metadata": {},
   "source": [
    "#### Rearranging columns for gsmr:"
   ]
  },
  {
   "cell_type": "code",
   "execution_count": 38,
   "id": "ae795021",
   "metadata": {},
   "outputs": [],
   "source": [
    "%%bash\n",
    "awk -v OFS='\\t' 'BEGIN { print \"SNP\", \"A1\", \"A2\", \"freq\", \"b\", \"se\", \"p\", \"N\" } NR!=1 { print $1, $4, $5, $9, $10, $11, $7, $8 }' alzheimer_onlyrs_uniq_p_z_beta > ~/alzheimersproject/gsmr_formatted/alzheimer_gsmr_form"
   ]
  },
  {
   "cell_type": "code",
   "execution_count": null,
   "id": "5fb1c65a",
   "metadata": {},
   "outputs": [],
   "source": []
  }
 ],
 "metadata": {
  "kernelspec": {
   "display_name": "Python 3 (ipykernel)",
   "language": "python",
   "name": "python3"
  },
  "language_info": {
   "codemirror_mode": {
    "name": "ipython",
    "version": 3
   },
   "file_extension": ".py",
   "mimetype": "text/x-python",
   "name": "python",
   "nbconvert_exporter": "python",
   "pygments_lexer": "ipython3",
   "version": "3.8.12"
  }
 },
 "nbformat": 4,
 "nbformat_minor": 5
}
