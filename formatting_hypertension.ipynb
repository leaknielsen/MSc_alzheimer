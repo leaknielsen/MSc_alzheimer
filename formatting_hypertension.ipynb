{
 "cells": [
  {
   "cell_type": "code",
   "execution_count": 1,
   "id": "4ae8259c",
   "metadata": {},
   "outputs": [],
   "source": [
    "import pandas as pd\n",
    "import argparse as args\n",
    "import numpy as np\n",
    "\n",
    "#%load_ext rpy2.ipython"
   ]
  },
  {
   "cell_type": "markdown",
   "id": "a7f2941c",
   "metadata": {},
   "source": [
    "# Hypertension formatting:\n",
    "\n",
    "#### Reading the data:"
   ]
  },
  {
   "cell_type": "code",
   "execution_count": 2,
   "id": "347d64ec",
   "metadata": {
    "scrolled": true
   },
   "outputs": [
    {
     "data": {
      "text/html": [
       "<div>\n",
       "<style scoped>\n",
       "    .dataframe tbody tr th:only-of-type {\n",
       "        vertical-align: middle;\n",
       "    }\n",
       "\n",
       "    .dataframe tbody tr th {\n",
       "        vertical-align: top;\n",
       "    }\n",
       "\n",
       "    .dataframe thead th {\n",
       "        text-align: right;\n",
       "    }\n",
       "</style>\n",
       "<table border=\"1\" class=\"dataframe\">\n",
       "  <thead>\n",
       "    <tr style=\"text-align: right;\">\n",
       "      <th></th>\n",
       "      <th>SNP</th>\n",
       "      <th>CHR</th>\n",
       "      <th>BP</th>\n",
       "      <th>A1</th>\n",
       "      <th>A2</th>\n",
       "      <th>FREQ</th>\n",
       "      <th>HWEP</th>\n",
       "      <th>INFO</th>\n",
       "      <th>BETA</th>\n",
       "      <th>SE</th>\n",
       "      <th>P</th>\n",
       "    </tr>\n",
       "  </thead>\n",
       "  <tbody>\n",
       "    <tr>\n",
       "      <th>0</th>\n",
       "      <td>11:1373806_C_A</td>\n",
       "      <td>11</td>\n",
       "      <td>1373806</td>\n",
       "      <td>C</td>\n",
       "      <td>A</td>\n",
       "      <td>0.02781</td>\n",
       "      <td>0.043880</td>\n",
       "      <td>0.894853</td>\n",
       "      <td>0.008090</td>\n",
       "      <td>0.011217</td>\n",
       "      <td>0.48</td>\n",
       "    </tr>\n",
       "    <tr>\n",
       "      <th>1</th>\n",
       "      <td>11:1686076_A_G</td>\n",
       "      <td>11</td>\n",
       "      <td>1686076</td>\n",
       "      <td>A</td>\n",
       "      <td>G</td>\n",
       "      <td>0.11230</td>\n",
       "      <td>0.331000</td>\n",
       "      <td>0.956264</td>\n",
       "      <td>0.007756</td>\n",
       "      <td>0.005943</td>\n",
       "      <td>0.32</td>\n",
       "    </tr>\n",
       "    <tr>\n",
       "      <th>2</th>\n",
       "      <td>11:26315102_A_G</td>\n",
       "      <td>11</td>\n",
       "      <td>26315102</td>\n",
       "      <td>A</td>\n",
       "      <td>G</td>\n",
       "      <td>0.01282</td>\n",
       "      <td>0.013860</td>\n",
       "      <td>0.883669</td>\n",
       "      <td>0.003526</td>\n",
       "      <td>0.015519</td>\n",
       "      <td>0.86</td>\n",
       "    </tr>\n",
       "    <tr>\n",
       "      <th>3</th>\n",
       "      <td>11:402546_A_C</td>\n",
       "      <td>11</td>\n",
       "      <td>402546</td>\n",
       "      <td>A</td>\n",
       "      <td>C</td>\n",
       "      <td>0.11530</td>\n",
       "      <td>0.004139</td>\n",
       "      <td>0.837212</td>\n",
       "      <td>0.006674</td>\n",
       "      <td>0.005884</td>\n",
       "      <td>0.21</td>\n",
       "    </tr>\n",
       "    <tr>\n",
       "      <th>4</th>\n",
       "      <td>11:43891845_G_T</td>\n",
       "      <td>11</td>\n",
       "      <td>43891845</td>\n",
       "      <td>G</td>\n",
       "      <td>T</td>\n",
       "      <td>0.03922</td>\n",
       "      <td>0.952800</td>\n",
       "      <td>0.816099</td>\n",
       "      <td>-0.009298</td>\n",
       "      <td>0.009063</td>\n",
       "      <td>0.33</td>\n",
       "    </tr>\n",
       "    <tr>\n",
       "      <th>...</th>\n",
       "      <td>...</td>\n",
       "      <td>...</td>\n",
       "      <td>...</td>\n",
       "      <td>...</td>\n",
       "      <td>...</td>\n",
       "      <td>...</td>\n",
       "      <td>...</td>\n",
       "      <td>...</td>\n",
       "      <td>...</td>\n",
       "      <td>...</td>\n",
       "      <td>...</td>\n",
       "    </tr>\n",
       "    <tr>\n",
       "      <th>5265183</th>\n",
       "      <td>rs9999981</td>\n",
       "      <td>4</td>\n",
       "      <td>139575905</td>\n",
       "      <td>A</td>\n",
       "      <td>G</td>\n",
       "      <td>0.38520</td>\n",
       "      <td>0.037470</td>\n",
       "      <td>0.976159</td>\n",
       "      <td>0.001749</td>\n",
       "      <td>0.003908</td>\n",
       "      <td>0.74</td>\n",
       "    </tr>\n",
       "    <tr>\n",
       "      <th>5265184</th>\n",
       "      <td>rs9999982</td>\n",
       "      <td>4</td>\n",
       "      <td>122776933</td>\n",
       "      <td>G</td>\n",
       "      <td>A</td>\n",
       "      <td>0.27180</td>\n",
       "      <td>0.322000</td>\n",
       "      <td>0.996441</td>\n",
       "      <td>0.004001</td>\n",
       "      <td>0.004224</td>\n",
       "      <td>0.34</td>\n",
       "    </tr>\n",
       "    <tr>\n",
       "      <th>5265185</th>\n",
       "      <td>rs9999987</td>\n",
       "      <td>4</td>\n",
       "      <td>4936161</td>\n",
       "      <td>C</td>\n",
       "      <td>T</td>\n",
       "      <td>0.04687</td>\n",
       "      <td>0.000092</td>\n",
       "      <td>0.958540</td>\n",
       "      <td>-0.008885</td>\n",
       "      <td>0.008824</td>\n",
       "      <td>0.30</td>\n",
       "    </tr>\n",
       "    <tr>\n",
       "      <th>5265186</th>\n",
       "      <td>rs9999992</td>\n",
       "      <td>4</td>\n",
       "      <td>122902084</td>\n",
       "      <td>G</td>\n",
       "      <td>A</td>\n",
       "      <td>0.08992</td>\n",
       "      <td>0.077970</td>\n",
       "      <td>0.843684</td>\n",
       "      <td>0.001482</td>\n",
       "      <td>0.006331</td>\n",
       "      <td>0.78</td>\n",
       "    </tr>\n",
       "    <tr>\n",
       "      <th>5265187</th>\n",
       "      <td>rs9999997</td>\n",
       "      <td>4</td>\n",
       "      <td>163870478</td>\n",
       "      <td>G</td>\n",
       "      <td>A</td>\n",
       "      <td>0.46350</td>\n",
       "      <td>0.030910</td>\n",
       "      <td>0.992383</td>\n",
       "      <td>0.005586</td>\n",
       "      <td>0.003790</td>\n",
       "      <td>0.11</td>\n",
       "    </tr>\n",
       "  </tbody>\n",
       "</table>\n",
       "<p>5265188 rows × 11 columns</p>\n",
       "</div>"
      ],
      "text/plain": [
       "                     SNP  CHR         BP A1 A2     FREQ      HWEP      INFO  \\\n",
       "0         11:1373806_C_A   11    1373806  C  A  0.02781  0.043880  0.894853   \n",
       "1         11:1686076_A_G   11    1686076  A  G  0.11230  0.331000  0.956264   \n",
       "2        11:26315102_A_G   11   26315102  A  G  0.01282  0.013860  0.883669   \n",
       "3          11:402546_A_C   11     402546  A  C  0.11530  0.004139  0.837212   \n",
       "4        11:43891845_G_T   11   43891845  G  T  0.03922  0.952800  0.816099   \n",
       "...                  ...  ...        ... .. ..      ...       ...       ...   \n",
       "5265183        rs9999981    4  139575905  A  G  0.38520  0.037470  0.976159   \n",
       "5265184        rs9999982    4  122776933  G  A  0.27180  0.322000  0.996441   \n",
       "5265185        rs9999987    4    4936161  C  T  0.04687  0.000092  0.958540   \n",
       "5265186        rs9999992    4  122902084  G  A  0.08992  0.077970  0.843684   \n",
       "5265187        rs9999997    4  163870478  G  A  0.46350  0.030910  0.992383   \n",
       "\n",
       "             BETA        SE     P  \n",
       "0        0.008090  0.011217  0.48  \n",
       "1        0.007756  0.005943  0.32  \n",
       "2        0.003526  0.015519  0.86  \n",
       "3        0.006674  0.005884  0.21  \n",
       "4       -0.009298  0.009063  0.33  \n",
       "...           ...       ...   ...  \n",
       "5265183  0.001749  0.003908  0.74  \n",
       "5265184  0.004001  0.004224  0.34  \n",
       "5265185 -0.008885  0.008824  0.30  \n",
       "5265186  0.001482  0.006331  0.78  \n",
       "5265187  0.005586  0.003790  0.11  \n",
       "\n",
       "[5265188 rows x 11 columns]"
      ]
     },
     "execution_count": 2,
     "metadata": {},
     "output_type": "execute_result"
    }
   ],
   "source": [
    "hypertension = pd.DataFrame(pd.read_csv(\"~/alzheimersproject/1_raw_data/hypertension_zhu\", \n",
    "                delim_whitespace=True, header=0, na_values='NA'))\n",
    "\n",
    "hypertension"
   ]
  },
  {
   "cell_type": "markdown",
   "id": "e18607e3",
   "metadata": {},
   "source": [
    "It seems like only the N and Z column is missing. "
   ]
  },
  {
   "cell_type": "markdown",
   "id": "febf9e2f",
   "metadata": {},
   "source": [
    "#### Checking for NaN, NA, inf:"
   ]
  },
  {
   "cell_type": "code",
   "execution_count": 4,
   "id": "e86fa325",
   "metadata": {},
   "outputs": [
    {
     "name": "stdout",
     "output_type": "stream",
     "text": [
      "SNP     0\n",
      "CHR     0\n",
      "BP      0\n",
      "A1      0\n",
      "A2      0\n",
      "FREQ    0\n",
      "HWEP    0\n",
      "INFO    0\n",
      "BETA    0\n",
      "SE      2\n",
      "P       0\n",
      "dtype: int64\n",
      "\n",
      "------------------------------\n",
      "\n",
      "SNP     0\n",
      "CHR     0\n",
      "BP      0\n",
      "A1      0\n",
      "A2      0\n",
      "FREQ    0\n",
      "HWEP    0\n",
      "INFO    0\n",
      "BETA    0\n",
      "SE      2\n",
      "P       0\n",
      "dtype: int64\n",
      "\n",
      "------------------------------\n",
      "\n",
      "SNP     0\n",
      "CHR     0\n",
      "BP      0\n",
      "A1      0\n",
      "A2      0\n",
      "FREQ    0\n",
      "HWEP    0\n",
      "INFO    0\n",
      "BETA    0\n",
      "SE      0\n",
      "P       0\n",
      "dtype: int64\n"
     ]
    }
   ],
   "source": [
    "# 1. Checking for NaN:\n",
    "print(hypertension.isnull().sum())\n",
    "\n",
    "print('\\n------------------------------\\n')\n",
    "\n",
    "# 2. Checking for NA:\n",
    "print(hypertension.isna().sum())\n",
    "\n",
    "print('\\n------------------------------\\n')\n",
    "\n",
    "# 3. Checking for inf:\n",
    "print((hypertension.isin([np.inf, -np.inf])).sum())"
   ]
  },
  {
   "cell_type": "markdown",
   "id": "37b47c1a",
   "metadata": {},
   "source": [
    "#### Checking for se=0 and p=0:"
   ]
  },
  {
   "cell_type": "code",
   "execution_count": 5,
   "id": "022f9500",
   "metadata": {},
   "outputs": [
    {
     "name": "stdout",
     "output_type": "stream",
     "text": [
      "SNP\tCHR\tBP\tA1\tA2\tFREQ\tHWEP\tINFO\tBETA\tSE\tP\n",
      "rs4673080\t2\t224840096\tA\tC\t0.4404\t1\t0.85667\t3.99785e+10\tnan\t1.0E+00\n",
      "rs4697790\t4\t10841021\tA\tC\t0.4732\t1\t0.860489\t1.94924e+10\tnan\t1.0E+00\n",
      "--------------------------------\n",
      "SNP\tCHR\tBP\tA1\tA2\tFREQ\tHWEP\tINFO\tBETA\tSE\tP\n"
     ]
    }
   ],
   "source": [
    "%%bash\n",
    "\n",
    "# Checking for P=0:\n",
    "awk -v OFS='\\t' 'NR == 1 || $10 == \"nan\" || $10 == \"NaN\"' ~/alzheimersproject/1_raw_data/hypertension_zhu | more\n",
    "\n",
    "echo '--------------------------------'\n",
    "\n",
    "awk -v OFS='\\t' 'NR == 1 || $11 == \"0\" || $11 == \"0.0\"' ~/alzheimersproject/1_raw_data/hypertension_zhu | more"
   ]
  },
  {
   "cell_type": "markdown",
   "id": "3c02a336",
   "metadata": {},
   "source": [
    "#### Deleting variants with SE=0:"
   ]
  },
  {
   "cell_type": "code",
   "execution_count": 6,
   "id": "44f7c5f4",
   "metadata": {},
   "outputs": [],
   "source": [
    "%%bash\n",
    "\n",
    "awk -v OFS='\\t' '$10 != \"nan\"' ~/alzheimersproject/1_raw_data/hypertension_zhu > hypertension_nonan"
   ]
  },
  {
   "cell_type": "markdown",
   "id": "13042865",
   "metadata": {},
   "source": [
    "#### Adding N and Z columns:"
   ]
  },
  {
   "cell_type": "code",
   "execution_count": 7,
   "id": "e6b40979",
   "metadata": {
    "scrolled": true
   },
   "outputs": [],
   "source": [
    "%%bash\n",
    "\n",
    "awk -v OFS='\\t' 'BEGIN { print \"SNP\", \"CHR\", \"BP\", \"A1\", \"A2\", \"Z\", \"P\", \"N\", \"FREQ\", \"BETA\", \"SE\" } NR>2 { print $1, $2, $3, $4, $5, $12 = ($9/$10), $11, $13 = (458554), $6, $9, $10 }' hypertension_nonan > hypertension_all_cols\n"
   ]
  },
  {
   "cell_type": "markdown",
   "id": "892059f7",
   "metadata": {},
   "source": [
    "#### Removing potential non-rsIDs in the SNP column:"
   ]
  },
  {
   "cell_type": "code",
   "execution_count": 8,
   "id": "735df973",
   "metadata": {},
   "outputs": [],
   "source": [
    "%%bash\n",
    "\n",
    "awk -v OFS='\\t' 'NR == 1 || $1 ~ \"rs\"' hypertension_all_cols > hypertension_onlyrs"
   ]
  },
  {
   "cell_type": "markdown",
   "id": "30022244",
   "metadata": {},
   "source": [
    "#### Removing possible duplicates in the file:"
   ]
  },
  {
   "cell_type": "code",
   "execution_count": 1,
   "id": "80dfbaaa",
   "metadata": {},
   "outputs": [],
   "source": [
    "%%bash\n",
    "\n",
    "awk '!seen[$1]++' hypertension_onlyrs > hypertension_formatted"
   ]
  },
  {
   "cell_type": "code",
   "execution_count": 1,
   "id": "98d94651",
   "metadata": {},
   "outputs": [
    {
     "name": "stdout",
     "output_type": "stream",
     "text": [
      "SNP\tCHR\tBP\tA1\tA2\tZ\tP\tN\tFREQ\tBETA\tSE\n",
      "rs10\t7\t92383888\tA\tC\t0.79532\t3.4E-01\t458554\t0.05004\t0.00657193\t0.00826325\n",
      "rs1000000\t12\t126890980\tG\tA\t1.80028\t5.6E-02\t458554\t0.2237\t0.00810902\t0.0045043\n",
      "rs10000003\t4\t57561647\tA\tG\t-0.0680976\t9.5E-01\t458554\t0.294\t-0.000280695\t0.00412195\n",
      "rs10000010\t4\t21618674\tT\tC\t0.509005\t5.9E-01\t458554\t0.4866\t0.00193139\t0.00379444\n",
      "rs10000012\t4\t1357325\tC\tG\t0.395443\t7.3E-01\t458554\t0.1405\t0.00214978\t0.00543638\n",
      "rs10000013\t4\t37225069\tC\tA\t-0.793294\t4.1E-01\t458554\t0.2113\t-0.00364394\t0.00459343\n",
      "rs10000014\t4\t178447148\tC\tT\t-0.691843\t6.1E-01\t458554\t0.3497\t-0.00272813\t0.00394328\n",
      "rs10000017\t4\t84778125\tC\tT\t-1.66339\t7.4E-02\t458554\t0.2137\t-0.00757298\t0.00455273\n",
      "rs10000018\t4\t100458448\tA\tG\t-0.623255\t4.8E-01\t458554\t0.3007\t-0.00257929\t0.00413842\n"
     ]
    }
   ],
   "source": [
    "%%bash\n",
    "\n",
    "head hypertension_formatted "
   ]
  },
  {
   "cell_type": "markdown",
   "id": "6c07f1fd",
   "metadata": {},
   "source": [
    "#### Rearranging columns for ldsc:"
   ]
  },
  {
   "cell_type": "code",
   "execution_count": 11,
   "id": "aead37f1",
   "metadata": {},
   "outputs": [],
   "source": [
    "%%bash\n",
    "awk -v OFS='\\t' 'BEGIN { print \"SNP\", \"CHR\", \"BP\", \"A1\", \"A2\", \"FREQ\", \"P\", \"N\", \"Z\" } NR!=1 { print $1, $2, $3, $4, $5, $9, $7, $8, $6 }' hypertension_onlyrs_uniq > ~/alzheimersproject/ldsc_formatted/hypertension_ldsc_form"
   ]
  },
  {
   "cell_type": "markdown",
   "id": "0b543335",
   "metadata": {},
   "source": [
    "#### Rearranging columns for gsmr:"
   ]
  },
  {
   "cell_type": "code",
   "execution_count": 12,
   "id": "8570a93a",
   "metadata": {},
   "outputs": [],
   "source": [
    "%%bash\n",
    "awk -v OFS='\\t' 'BEGIN { print \"SNP\", \"A1\", \"A2\", \"freq\", \"b\", \"se\", \"p\", \"N\" } NR!=1 { print $1, $4, $5, $9, $10, $11, $7, $8 }' hypertension_onlyrs_uniq > ~/alzheimersproject/gsmr_formatted/hypertension_gsmr_form"
   ]
  }
 ],
 "metadata": {
  "kernelspec": {
   "display_name": "Python 3 (ipykernel)",
   "language": "python",
   "name": "python3"
  },
  "language_info": {
   "codemirror_mode": {
    "name": "ipython",
    "version": 3
   },
   "file_extension": ".py",
   "mimetype": "text/x-python",
   "name": "python",
   "nbconvert_exporter": "python",
   "pygments_lexer": "ipython3",
   "version": "3.8.12"
  }
 },
 "nbformat": 4,
 "nbformat_minor": 5
}
